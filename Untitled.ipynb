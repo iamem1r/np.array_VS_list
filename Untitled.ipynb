{
 "cells": [
  {
   "cell_type": "code",
   "execution_count": 2,
   "id": "40d87200-f741-4e45-b766-00ff028650b9",
   "metadata": {},
   "outputs": [],
   "source": [
    "import numpy as np"
   ]
  },
  {
   "cell_type": "markdown",
   "id": "7e046b91-b985-4f67-8bf1-3d1eea5f2389",
   "metadata": {},
   "source": [
    "## List Version"
   ]
  },
  {
   "cell_type": "code",
   "execution_count": 7,
   "id": "37549ef0-3878-4ed5-a6c6-a04ec2c75dba",
   "metadata": {},
   "outputs": [],
   "source": [
    "grades = [round((np.random.rand()*100), 2) for i in range(10000)]"
   ]
  },
  {
   "cell_type": "code",
   "execution_count": 8,
   "id": "6a417e3e-fb32-4098-897e-be432010db0f",
   "metadata": {},
   "outputs": [
    {
     "data": {
      "text/plain": [
       "50.404605"
      ]
     },
     "execution_count": 8,
     "metadata": {},
     "output_type": "execute_result"
    }
   ],
   "source": [
    "np.mean(grades)"
   ]
  },
  {
   "cell_type": "code",
   "execution_count": 11,
   "id": "581b2b51-ffbe-4125-8fca-114d10b624f3",
   "metadata": {},
   "outputs": [],
   "source": [
    "def curve_grades_list(grades, curve_center):\n",
    "    average = sum(grades) / len(grades)\n",
    "    change = curve_center - average\n",
    "    new_grades = [i+change for i in grades]\n",
    "    \n",
    "    for i in range(len(new_grades)):\n",
    "        if new_grades[i] > 100:\n",
    "            new_grades[i] = 100\n",
    "        elif new_grades[i] < 0:\n",
    "            new_grades[i] = 0\n",
    "        \n",
    "    new_avg = sum(new_grades) / len(new_grades)    \n",
    "    return new_grades, new_avg"
   ]
  },
  {
   "cell_type": "code",
   "execution_count": 12,
   "id": "06fc86c9-1bc8-4da6-8e33-5af92a98e18b",
   "metadata": {},
   "outputs": [
    {
     "name": "stdout",
     "output_type": "stream",
     "text": [
      "1.4 ms ± 22.2 µs per loop (mean ± std. dev. of 7 runs, 1000 loops each)\n"
     ]
    }
   ],
   "source": [
    "%timeit curve_grades_list(grades, 75)"
   ]
  },
  {
   "cell_type": "code",
   "execution_count": 13,
   "id": "b2796942-7d7c-4034-8ef1-7fd93792794c",
   "metadata": {},
   "outputs": [],
   "source": [
    "grades_array = np.random.randint(0,101, 10000)\n",
    "def curve(grades, curve_center):\n",
    "    average = grades.mean()\n",
    "    change = curve_center - average\n",
    "    new_grades = grades + change\n",
    "    \n",
    "    return np.clip(new_grades, grades, 100)"
   ]
  },
  {
   "cell_type": "code",
   "execution_count": 14,
   "id": "2be5934c-700a-4f15-8c39-12945b97906a",
   "metadata": {},
   "outputs": [
    {
     "name": "stdout",
     "output_type": "stream",
     "text": [
      "52.3 µs ± 262 ns per loop (mean ± std. dev. of 7 runs, 10000 loops each)\n"
     ]
    }
   ],
   "source": [
    "%timeit curve(grades_array, 75)"
   ]
  },
  {
   "cell_type": "code",
   "execution_count": null,
   "id": "07cdb00e-b183-4341-ad9e-55d4bfbb8a81",
   "metadata": {},
   "outputs": [],
   "source": []
  }
 ],
 "metadata": {
  "kernelspec": {
   "display_name": "Python 3 (ipykernel)",
   "language": "python",
   "name": "python3"
  },
  "language_info": {
   "codemirror_mode": {
    "name": "ipython",
    "version": 3
   },
   "file_extension": ".py",
   "mimetype": "text/x-python",
   "name": "python",
   "nbconvert_exporter": "python",
   "pygments_lexer": "ipython3",
   "version": "3.8.12"
  }
 },
 "nbformat": 4,
 "nbformat_minor": 5
}
