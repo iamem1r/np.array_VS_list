{
 "cells": [
  {
   "cell_type": "markdown",
   "id": "5ca7399b-27e8-4dd2-bd07-6321ebbcdf86",
   "metadata": {},
   "source": [
    "<img src=\"numpy_logo.png\" width=\"150\" class=\"center\" >"
   ]
  },
  {
   "cell_type": "markdown",
   "id": "b5b641a9-6eac-431f-ac97-1a9a4d00ff6d",
   "metadata": {},
   "source": [
    "**In this very mini tutorial** we are going to talk about how efficient is **Numpy**.\n",
    "\n",
    "- Should we use numpy?\n",
    "- Why we should use numpy?\n",
    "- should we use it instead of list in python in data preprocessing or even in our data pipelines?\n",
    "- How numpy works behind the scene? and ..."
   ]
  },
  {
   "cell_type": "markdown",
   "id": "b6cba669-d477-4ac0-8065-0c70b2e57092",
   "metadata": {},
   "source": [
    "My approach is learning why numpy is efficient by comparing it to other data structures.\n",
    "then test them and see how they are working.\n",
    "in a very simple example we'll see the miracle of **Numpy**."
   ]
  },
  {
   "cell_type": "markdown",
   "id": "c3835943-90eb-41fe-a464-8b02cef3001e",
   "metadata": {},
   "source": [
    "---"
   ]
  },
  {
   "cell_type": "markdown",
   "id": "759ddae5-944c-490f-86a8-3b7d15219f8d",
   "metadata": {},
   "source": [
    "# Curving The Test Grades"
   ]
  },
  {
   "cell_type": "markdown",
   "id": "b66cfd6c-dacc-4c8e-999c-739aeea37f7e",
   "metadata": {},
   "source": [
    "Imagin you are a university teacher or TA. you took a test and students were mess and the grades was far below than the difficulty curve.\n",
    "you should curve the grades to make the grades near the difficulty average."
   ]
  },
  {
   "cell_type": "markdown",
   "id": "c07ac815-21a5-4628-a3a7-e2e39a80fe54",
   "metadata": {},
   "source": [
    "**So we are going to do this thing in 2 ways with python list and numpy array and figure out which one is more efficient**"
   ]
  },
  {
   "cell_type": "code",
   "execution_count": 34,
   "id": "40d87200-f741-4e45-b766-00ff028650b9",
   "metadata": {},
   "outputs": [],
   "source": [
    "import numpy as np\n",
    "GRADES_SIZE = 100000"
   ]
  },
  {
   "cell_type": "markdown",
   "id": "f4de8516-ee68-4acb-bdb8-28307fd60076",
   "metadata": {},
   "source": [
    "---"
   ]
  },
  {
   "cell_type": "markdown",
   "id": "7e046b91-b985-4f67-8bf1-3d1eea5f2389",
   "metadata": {},
   "source": [
    "## List Version"
   ]
  },
  {
   "cell_type": "markdown",
   "id": "8bc0c7cd-93e6-49c1-9b78-10ae0c1586ac",
   "metadata": {},
   "source": [
    "first we creating a random list of grades.\n",
    "in real world projects we are dealing with thousands or millions rows of data, so we don't want compare our example in 50 or 100 grades. reason of why i create a list of 10000 grades.(i know that 10000 students is impossible for a class)"
   ]
  },
  {
   "cell_type": "code",
   "execution_count": 39,
   "id": "37549ef0-3878-4ed5-a6c6-a04ec2c75dba",
   "metadata": {},
   "outputs": [],
   "source": [
    "grades_list = [round((np.random.rand()*100), 2) for i in range(GRADES_SIZE)]"
   ]
  },
  {
   "cell_type": "code",
   "execution_count": 40,
   "id": "6a417e3e-fb32-4098-897e-be432010db0f",
   "metadata": {},
   "outputs": [
    {
     "data": {
      "text/plain": [
       "50.05780529999999"
      ]
     },
     "execution_count": 40,
     "metadata": {},
     "output_type": "execute_result"
    }
   ],
   "source": [
    "np.mean(grades_list)"
   ]
  },
  {
   "cell_type": "markdown",
   "id": "5e0c6d9e-4e77-435f-b696-19d230f40153",
   "metadata": {},
   "source": [
    "I define a function that take the **grades list** and **the curve center or our desired dificulty average**.\n",
    "then it returns the new average and new list of grades."
   ]
  },
  {
   "cell_type": "code",
   "execution_count": 41,
   "id": "581b2b51-ffbe-4125-8fca-114d10b624f3",
   "metadata": {},
   "outputs": [],
   "source": [
    "def curve_grades_list(grades, curve_center):\n",
    "    \"\"\"\n",
    "    This function takes a list of grades and a curve center, \n",
    "    and returns the new grades list and new average after curving to the center.\n",
    "    \"\"\"\n",
    "    average = sum(grades) / len(grades)\n",
    "    change = curve_center - average\n",
    "    new_grades = [i+change for i in grades]\n",
    "    \n",
    "    # set minimum grade to 0 and the maximum grade to 100\n",
    "    for i in range(len(new_grades)):\n",
    "        if new_grades[i] > 100:\n",
    "            new_grades[i] = 100\n",
    "        elif new_grades[i] < 0:\n",
    "            new_grades[i] = 0\n",
    "        \n",
    "    new_avg = sum(new_grades) / len(new_grades) \n",
    "    \n",
    "    return new_grades, new_avg"
   ]
  },
  {
   "cell_type": "code",
   "execution_count": 42,
   "id": "06fc86c9-1bc8-4da6-8e33-5af92a98e18b",
   "metadata": {},
   "outputs": [
    {
     "name": "stdout",
     "output_type": "stream",
     "text": [
      "14.9 ms ± 1.35 ms per loop (mean ± std. dev. of 7 runs, 100 loops each)\n"
     ]
    }
   ],
   "source": [
    "%timeit curve_grades_list(grades=grades_list, curve_center=75)"
   ]
  },
  {
   "cell_type": "markdown",
   "id": "5c218e72-cace-4aa6-8d3c-a4cc856376e7",
   "metadata": {},
   "source": [
    "---"
   ]
  },
  {
   "cell_type": "markdown",
   "id": "f825d584-5d51-4959-a394-2486d5a27310",
   "metadata": {},
   "source": [
    "# Numpy Version"
   ]
  },
  {
   "cell_type": "code",
   "execution_count": 43,
   "id": "b2796942-7d7c-4034-8ef1-7fd93792794c",
   "metadata": {},
   "outputs": [],
   "source": [
    "grades_array = np.random.randint(0,101, GRADES_SIZE)\n",
    "\n",
    "def curve(grades, curve_center):\n",
    "    average = grades.mean()\n",
    "    change = curve_center - average\n",
    "    new_grades = grades + change\n",
    "    \n",
    "    return np.clip(new_grades, grades, 100)"
   ]
  },
  {
   "cell_type": "code",
   "execution_count": 44,
   "id": "2be5934c-700a-4f15-8c39-12945b97906a",
   "metadata": {},
   "outputs": [
    {
     "name": "stdout",
     "output_type": "stream",
     "text": [
      "529 µs ± 15.3 µs per loop (mean ± std. dev. of 7 runs, 1000 loops each)\n"
     ]
    }
   ],
   "source": [
    "%timeit curve(grades=grades_array, curve_center=75)"
   ]
  },
  {
   "cell_type": "markdown",
   "id": "9b49a73e-21b9-4077-adfb-3566465d3f7b",
   "metadata": {},
   "source": [
    "That is what i want to see.\n",
    "**Numpy is 28 times faster than python list.**"
   ]
  },
  {
   "cell_type": "markdown",
   "id": "e84967cf-17b4-41e0-823e-1baa57e3e1b8",
   "metadata": {},
   "source": [
    "We take advantage of two important concepts at once:\n",
    "\n",
    "- Vectorization\n",
    "- Broadcasting"
   ]
  },
  {
   "cell_type": "markdown",
   "id": "cf1b6609-4fc1-472e-9a5b-edd0c3fade9e",
   "metadata": {},
   "source": [
    "**Vectorization** is the process of performing the same operation in the same way for each element in an array. This removes `for` loops from your code but achieves the same result."
   ]
  },
  {
   "cell_type": "markdown",
   "id": "f99625da-8b79-40b0-a31c-8197e9c77dda",
   "metadata": {},
   "source": [
    "**Broadcasting** is the process of extending two arrays of different shapes and figuring out how to perform a vectorized calculation between them. Remember, grades is an array of numbers of shape `(8,)` and change is a **scalar**, or single number, essentially with shape `(1,)`. In this case, NumPy adds the scalar to each item in the array and returns a new array with the results."
   ]
  },
  {
   "cell_type": "markdown",
   "id": "a93862e1-ed43-4d60-9cd7-73aa51d887b0",
   "metadata": {},
   "source": [
    "Because of this 2 important feature we can have **fewer loops**, **clearer codes** , **faster execution times**, **less memory** and etc.\n",
    "so if you can use numpy over list, use it."
   ]
  },
  {
   "cell_type": "markdown",
   "id": "53e95a1c-200c-4522-851e-71a035cd7ffd",
   "metadata": {},
   "source": [
    "Use **Numpy's Builtins Methods** and do not enter your ceativity into this."
   ]
  },
  {
   "cell_type": "code",
   "execution_count": null,
   "id": "9514bf36-8ef1-4943-9c40-5ce1ba8f0d97",
   "metadata": {},
   "outputs": [],
   "source": []
  }
 ],
 "metadata": {
  "kernelspec": {
   "display_name": "Python 3 (ipykernel)",
   "language": "python",
   "name": "python3"
  },
  "language_info": {
   "codemirror_mode": {
    "name": "ipython",
    "version": 3
   },
   "file_extension": ".py",
   "mimetype": "text/x-python",
   "name": "python",
   "nbconvert_exporter": "python",
   "pygments_lexer": "ipython3",
   "version": "3.8.12"
  }
 },
 "nbformat": 4,
 "nbformat_minor": 5
}
